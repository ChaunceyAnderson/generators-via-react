{
 "cells": [
  {
   "cell_type": "code",
   "execution_count": 1,
   "metadata": {
    "dotnet_interactive": {
     "language": "javascript"
    },
    "polyglot_notebook": {
     "kernelName": "javascript"
    }
   },
   "outputs": [
    {
     "data": {
      "text/plain": [
       "\n",
       "/// <summary>\n",
       "/// Gets or sets the Id value. \n",
       "/// </summary>\n",
       "public int Id { get; set; }"
      ]
     },
     "metadata": {},
     "output_type": "display_data"
    },
    {
     "data": {
      "text/plain": [
       "\n",
       "/// <summary>\n",
       "/// Gets or sets the Title value. \n",
       "/// </summary>\n",
       "public string Title { get; set; }"
      ]
     },
     "metadata": {},
     "output_type": "display_data"
    },
    {
     "data": {
      "text/plain": [
       "\n",
       "/// <summary>\n",
       "/// Gets or sets the Description value. \n",
       "/// </summary>\n",
       "public string Description { get; set; }"
      ]
     },
     "metadata": {},
     "output_type": "display_data"
    },
    {
     "data": {
      "text/plain": [
       "\n",
       "/// <summary>\n",
       "/// Gets or sets the Urn value. \n",
       "/// </summary>\n",
       "public int Urn { get; set; }"
      ]
     },
     "metadata": {},
     "output_type": "display_data"
    }
   ],
   "source": [
    "var data = [\n",
    "  {\n",
    "    \"propertyName\": \"Id\",\n",
    "    \"dataType\": \"int\"\n",
    "  },\n",
    "  {\n",
    "    \"propertyName\": \"Title\",\n",
    "    \"dataType\": \"string\"\n",
    "  },\n",
    "  {\n",
    "    \"propertyName\": \"Description\",\n",
    "    \"dataType\": \"string\"\n",
    "  },\n",
    "  {\n",
    "    \"propertyName\": \"Urn\",\n",
    "    \"dataType\": \"int\"\n",
    "  }\n",
    "]\n",
    "\n",
    "//==================================================\n",
    "//DataEntities Thingy\n",
    "\n",
    "data.forEach(function(d) {\n",
    "\n",
    "  let output = `\n",
    "/// <summary>\n",
    "/// Gets or sets the ${d.propertyName} value. \n",
    "/// </summary>\n",
    "public ${d.dataType} ${d.propertyName} { get; set; }`;\n",
    "\n",
    "  console.log(output);\n",
    "\n",
    "});\n"
   ]
  }
 ],
 "metadata": {
  "kernelspec": {
   "display_name": ".NET (C#)",
   "language": "C#",
   "name": ".net-csharp"
  },
  "polyglot_notebook": {
   "kernelInfo": {
    "defaultKernelName": "csharp",
    "items": [
     {
      "aliases": [
       "c#",
       "C#"
      ],
      "languageName": "C#",
      "name": "csharp"
     },
     {
      "aliases": [
       "frontend"
      ],
      "languageName": null,
      "name": "vscode"
     },
     {
      "aliases": [
       "js"
      ],
      "languageName": "JavaScript",
      "name": "javascript"
     },
     {
      "aliases": [],
      "languageName": null,
      "name": ".NET"
     },
     {
      "aliases": [
       "f#",
       "F#"
      ],
      "languageName": "F#",
      "name": "fsharp"
     },
     {
      "aliases": [],
      "languageName": "HTML",
      "name": "html"
     },
     {
      "aliases": [],
      "languageName": "KQL",
      "name": "kql"
     },
     {
      "aliases": [],
      "languageName": "Mermaid",
      "name": "mermaid"
     },
     {
      "aliases": [
       "powershell"
      ],
      "languageName": "PowerShell",
      "name": "pwsh"
     },
     {
      "aliases": [],
      "languageName": "SQL",
      "name": "sql"
     },
     {
      "aliases": [],
      "languageName": null,
      "name": "value"
     }
    ]
   }
  }
 },
 "nbformat": 4,
 "nbformat_minor": 2
}
